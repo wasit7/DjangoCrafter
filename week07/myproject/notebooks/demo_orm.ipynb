{
 "cells": [
  {
   "cell_type": "code",
   "execution_count": 3,
   "id": "cb503e74",
   "metadata": {},
   "outputs": [
    {
     "name": "stdout",
     "output_type": "stream",
     "text": [
      "[<Bike: red bike>, <Bike: green>, <Bike: blue bike>]\n"
     ]
    }
   ],
   "source": [
    "from asgiref.sync import sync_to_async\n",
    "from myapp.models import Bike\n",
    "\n",
    "async def fetch_all_bikes():\n",
    "    bikes = await sync_to_async(list)(Bike.objects.all())\n",
    "    return bikes\n",
    "\n",
    "# Directly await the coroutine in an async cell\n",
    "all_bikes = await fetch_all_bikes()\n",
    "print(all_bikes)\n"
   ]
  },
  {
   "cell_type": "code",
   "execution_count": null,
   "id": "3312df7b",
   "metadata": {},
   "outputs": [],
   "source": []
  }
 ],
 "metadata": {
  "kernelspec": {
   "display_name": "Django Shell-Plus",
   "language": "python",
   "name": "django_extensions"
  },
  "language_info": {
   "codemirror_mode": {
    "name": "ipython",
    "version": 3
   },
   "file_extension": ".py",
   "mimetype": "text/x-python",
   "name": "python",
   "nbconvert_exporter": "python",
   "pygments_lexer": "ipython3",
   "version": "3.9.21"
  }
 },
 "nbformat": 4,
 "nbformat_minor": 5
}
